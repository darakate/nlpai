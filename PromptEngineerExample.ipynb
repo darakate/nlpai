{
 "cells": [
  {
   "cell_type": "markdown",
   "id": "3402fafc",
   "metadata": {},
   "source": [
    "# Prompt Engineering ChatGPT to Parse Articles for Information\n",
    "The purpose of this notebook is to give a demonstration of prompt engineering using the api Open AI."
   ]
  },
  {
   "cell_type": "markdown",
   "id": "ac7cb0ff",
   "metadata": {},
   "source": [
    "The following can be used to install the required libraries and set an Open AI key as an environment variable in the terminal:"
   ]
  },
  {
   "cell_type": "raw",
   "id": "7c882428",
   "metadata": {},
   "source": [
    "pip install openai\n",
    "pip install python-dotenv\n",
    "pip install newspaper3k\n",
    "setx OPENAI_API_KEY \"<YOUR KEY>\""
   ]
  },
  {
   "cell_type": "markdown",
   "id": "b46c527e",
   "metadata": {},
   "source": [
    "The following Python code imports the required modules and reads the AI key. Keep in mind that Windows may require a restart for the system environment to be set."
   ]
  },
  {
   "cell_type": "code",
   "execution_count": 1,
   "id": "95c58f6e",
   "metadata": {},
   "outputs": [],
   "source": [
    "import openai\n",
    "import os\n",
    "from newspaper import Article\n",
    "from dotenv import load_dotenv, find_dotenv\n",
    "_ = load_dotenv(find_dotenv())\n",
    "\n",
    "openai.api_key = os.getenv('OPENAI_API_KEY')"
   ]
  },
  {
   "cell_type": "markdown",
   "id": "9c68261a",
   "metadata": {},
   "source": [
    "The following function will send the input prompt to the model gpt-3.5-turbo and create the response:"
   ]
  },
  {
   "cell_type": "code",
   "execution_count": 2,
   "id": "b27d010b",
   "metadata": {},
   "outputs": [],
   "source": [
    "def get_completion(prompt, model=\"gpt-3.5-turbo\"):\n",
    "    messages = [{\"role\": \"user\", \"content\": prompt}]\n",
    "    response = openai.ChatCompletion.create(\n",
    "        model=model,\n",
    "        messages=messages,\n",
    "        temperature=0,\n",
    "    )\n",
    "    return response.choices[0].message[\"content\"]"
   ]
  },
  {
   "cell_type": "markdown",
   "id": "81142b2a",
   "metadata": {},
   "source": [
    "Below I will put the url of an article."
   ]
  },
  {
   "cell_type": "code",
   "execution_count": 3,
   "id": "e4a14d61",
   "metadata": {},
   "outputs": [],
   "source": [
    "url = 'https://www.cnn.com/2023/06/12/us/utah-mom-husband-killing-court-documents/index.html'"
   ]
  },
  {
   "cell_type": "code",
   "execution_count": 4,
   "id": "9c9c2a16",
   "metadata": {},
   "outputs": [],
   "source": [
    "article = Article(url)\n",
    "article.download()\n",
    "article.parse()"
   ]
  },
  {
   "cell_type": "code",
   "execution_count": 27,
   "id": "c0611611",
   "metadata": {
    "collapsed": true,
    "jupyter": {
     "outputs_hidden": true
    },
    "tags": []
   },
   "outputs": [
    {
     "name": "stdout",
     "output_type": "stream",
     "text": [
      "CNN —\n",
      "\n",
      "A judge denied the pretrial release of Kouri Richins – a Utah widow accused of killing her husband before she authored a children’s book about grief – saying she must remain in custody pending the outcome of her trial due to the “substantial evidence” against her.\n",
      "\n",
      "The judge’s decision to deny bail came as new details about the widow’s alleged search history emerged as part of the case against the 33 year old, who appeared in a Park City, Utah, court on Monday.\n",
      "\n",
      "“What is a lethal dose of fentanyl” was one of many phone searches that investigators say were made by Kouri Richins. Prosecutors allege she killed Eric Richins, her husband of nine years, with a lethal dose of fentanyl. She faces charges of criminal homicide, aggravated murder and three counts of possession of a controlled substance with intent to distribute. She has not yet entered a plea.\n",
      "\n",
      "In court Monday, Judge Richard E. Mrazik ruled Kouri Richins to be held without bail and cited the severity of the punishment of aggravated murder and the “uniquely dangerous nature of fentanyl.”\n",
      "\n",
      "“The circumstances of this case weigh soundly against granting pre-trial release of any kind,” Mrazik said, adding the array of possible penalties in a murder case “creates a powerful incentive for a defendant to resort to desperate acts that might include harming themselves, harming the members of their family or harming witnesses in the case.”\n",
      "\n",
      "During the hearing, prosecutors called on several expert witnesses to testify about the investigation into Kouri Richins’ phone records and financial history. The defense did not call any witnesses.\n",
      "\n",
      "Her attorney, Skye Lazaro, argued there was not adequate evidence proving she had purchased fentanyl and disputed that Kouri Richins’ financial troubles were a motive for her to kill her husband.\n",
      "\n",
      "Eric Richins’ sister, Amy Richins, also made a victim impact statement at the hearing, saying: “Eric died under horrendous circumstances. I am tormented at the thought of what he endured.”\n",
      "\n",
      "“I play it out in my head, I go through the terrible sequence of events. I wonder when he realized he was in mortal danger. I wonder what Kouri may have said to him in his last moments,” she continued. “We have watched as Kouri has paraded around portraying herself as a grieving widow and victim while trying to profit from the death of my brother.”\n",
      "\n",
      "The judge informed Kouri Richins she has the right to file an expedited appeal within 30 days of the ruling. The court will reconvene next on June 22 for a scheduling conference to determine a date for a preliminary hearing.\n",
      "\n",
      "Kouri Richins, a Utah mother of three who authorities say fatally poisoned her husband then wrote a children's book about grieving, looks on during a bail hearing Monday, June 12, 2023, in Park City, Utah. A judge ruled to keep her in custody for the duration of her trial. Rick Bowmer/Pool/AP\n",
      "\n",
      "Prosecutors cite ‘incriminating evidence’\n",
      "\n",
      "The documents released Friday also give insight into Kouri Richins’ defense. Her attorneys argue “there is no substantial evidence to support the charges” and say she should be released as she awaits trial.\n",
      "\n",
      "Among the details released in the documents are internet searches investigators say were found on her phone that were described by prosecutors as “incriminating.”\n",
      "\n",
      "Some of the articles pulled up through her searches focused on fentanyl, life insurance payments and others relating to police investigations and how data is collected from electronic devices.\n",
      "\n",
      "The searches found on Kouri Richins’ iPhone include the phrases: “can cops force you to do a lie detector test?” “Luxury prisons for the rich in America,” “death certificate says pending, will life insurance still pay?” “If someone is poisoned what does it go down on the death certificate as,” and “How to permanently delete information from an iPhone remotely.”\n",
      "\n",
      "Eric Richins was found dead at the foot of the couple’s bed in March 2022. His wife told investigators at the time that she brought her husband a Moscow Mule cocktail in the bedroom of their Kamas, Utah, home, then left to sleep with their son in his room and returned around 3 a.m. to find her husband lying on the floor cold to the touch.\n",
      "\n",
      "About a year to the day after her husband died, Kouri Richins published a children’s book, “Are You With Me?” about navigating grief after the loss of a loved one.\n",
      "\n",
      "Alleged fentanyl purchases before husband’s death\n",
      "\n",
      "The house where Kouri Richins and Eric Richins lived is seen in Francis, Utah, on May 11, 2023. Rick Bowmer/AP\n",
      "\n",
      "Prosecutors say Kouri Richins withdrew money from bank accounts without her husband’s knowledge and tried to change a life insurance policy to make herself the sole beneficiary. They also point to various incidents where she allegedly may have attempted to poison him.\n",
      "\n",
      "Meanwhile, her lawyers argue in filings made Friday that she had the right to withdraw money from their joint accounts, claiming “there is no evidence identifying the computer from which the login was initiated” when the life insurance policy change was attempted, and say she did not attempt to poison him.\n",
      "\n",
      "Investigators also detailed a series of illicit fentanyl purchases in the months leading up to her husband’s death, according to the documents. His death was six days after the latest alleged pill delivery, investigators say.\n",
      "\n",
      "An autopsy and toxicology report revealed that Eric Richins, 39, had about five times the lethal dosage of fentanyl in his system, according to a medical examiner.\n",
      "\n",
      "The defense insists there is no proof their client gave her husband the lethal dose.\n",
      "\n",
      "“Law enforcement never identified or seized any fentanyl or other illicit drugs from the Family Home,” her defense lawyers wrote in a motion. Also, “the State has provided no evidence that there was fentanyl found in the home. Nor have they provided any evidence that Kouri gave Eric the fentanyl at issue.”\n",
      "\n",
      "Eric Richins is described as a “partier” and someone who “loved a good time,” in the defense motion. “He would consume alcohol and THC in any form,” the document said.\n",
      "\n",
      "The defense motion also points to discrepancies in witness testimony, adding that law enforcement told one witness that “if she gave them what they wanted, it would constitute her ‘get out of jail free card,’” the document says.\n",
      "\n",
      "Kouri Richins, a Utah mother of three who authorities say fatally poisoned her husband then wrote a children's book about grieving, cries during a bail hearing Monday, June 12, 2023, in Park City, Utah. A judge ruled to keep her in custody for the duration of her trial. Rick Bowmer/Pool/AP\n",
      "\n",
      "Allegations of forged documents\n",
      "\n",
      "Potentially previewing what may be presented in trial, another filing in the case includes allegations that some of Eric Richins’ financial documents may have been forged.\n",
      "\n",
      "The professional opinion of Matt Throckmorton – a forensic document examiner who looked at three specific documents relating to durable power of attorney and life insurance – is included in the filings.\n",
      "\n",
      "After comparing those documents with dozens of other documents Eric Richins authored, Throckmorton indicated that signatures on the three items in question appear to have been forged.\n",
      "\n",
      "“The forgeries in this case are ‘simulated forgeries.’ That is when someone tries to copy, draw or duplicate another person’s characteristics and habits and tries to create a fraudulent signature or set of initials with enough similarities they might get passed off as genuine,” Throckmorton explained.\n",
      "\n",
      "“Eric made and requested several unusual to highly unusual choices and provisions to his estate plan,” said attorney Kristal Bowman-Carter, who counseled him on estate planning, according to the documents.\n",
      "\n",
      "Those unusual requests included that his wife not be designated as his health care agent should one be needed and that his wife and children be provided for, but with the caveat that she should be unable to control the financials. Eric Richins chose his father and sister to be trustees on his family’s behalf, according to the documents.\n",
      "\n",
      "He sought to “protect the three young sons he and Kouri had together in the long-term by ensuring that Kouri would never be in a position to manage his property after his death,” Bowman-Carter said.\n",
      "\n",
      "In a phone conversation the day after Eric Richins’ death, Bowman-Carter explained the trust to his wife. She said Kouri Richins “became extremely upset. Her behavior (led) me to believe she was learning this for the first time.”\n",
      "\n",
      "In an email included in the filings, Kouri Richins wrote to police clarifying information about her previous testimony, including a reference to an affair her husband previously had. “Eric’s affair was the same year I ‘moved out,’ the trust was created as well as him looking into a divorce,” she wrote. “Eric and I figured things out like most couples do,” she added.\n"
     ]
    }
   ],
   "source": [
    "print(article.text)"
   ]
  },
  {
   "cell_type": "code",
   "execution_count": 28,
   "id": "d55640e3",
   "metadata": {
    "jupyter": {
     "outputs_hidden": true
    },
    "scrolled": false,
    "tags": []
   },
   "outputs": [
    {
     "name": "stdout",
     "output_type": "stream",
     "text": [
      "Kouri Richins: New details emerge about the alleged search history of the Utah mom charged with her husband's murder\n"
     ]
    }
   ],
   "source": [
    "print(article.title)"
   ]
  },
  {
   "cell_type": "markdown",
   "id": "ce6eb4fc",
   "metadata": {
    "tags": []
   },
   "source": [
    "Now for a simple prompt to interact with the model."
   ]
  },
  {
   "cell_type": "code",
   "execution_count": 9,
   "id": "7c6c3256",
   "metadata": {},
   "outputs": [
    {
     "name": "stdout",
     "output_type": "stream",
     "text": [
      "A Utah widow accused of killing her husband and authoring a children's book about grief has been denied pretrial release.\n"
     ]
    }
   ],
   "source": [
    "prompt = f'''\n",
    "Create a summary of 20 words or less to describe the article in the following text.\n",
    "```{article.text}```\n",
    "'''\n",
    "\n",
    "response = get_completion(prompt)\n",
    "print(response)"
   ]
  },
  {
   "cell_type": "markdown",
   "id": "77646036",
   "metadata": {},
   "source": [
    "So what other uses may there be for extracting information from an article?\n",
    "\n",
    "News sites will generally categorize their stories into sections such as Health, Politics, or Global news. While this is likely done before a story is submitted, it could be the case that a section could be subdivided or a new one created and some articles need additional, more specific categorization. A real world example would be the invasion of Ukraine becomes a war; some articles that were once \"World News\" should now be categorized under \"War on Ukraine\" as well.\n",
    "\n",
    "Another potential use would be referencing an ongoing story when relevant. It is not uncommon to have a follow up article and automatically referencing these articles based on context could be automated. It may also be useful to reccomend similar stories, or stories about nearby locations, but important to make a distinction between a similar type of story and a follow up.\n",
    "\n",
    "Finally, another metric to look at may be the general mood of the story. While it is important for people to be aware of events that are impacting lives, it is also true that a constant flux of stories about tragic or gruesome events can have a negative impact. People may have off days or simply need a palette cleanser from a feel good story.\n",
    "\n",
    "To put the instructions plainly, it is useful to have context based instructions to parse keywords from the article. I will try a simple prompt to do this:"
   ]
  },
  {
   "cell_type": "code",
   "execution_count": 5,
   "id": "3cb34f24",
   "metadata": {},
   "outputs": [
    {
     "name": "stdout",
     "output_type": "stream",
     "text": [
      "Utah, Kouri Richins, Eric Richins, fentanyl, criminal homicide, aggravated murder, possession of a controlled substance, bail, judge, phone searches, financial history, victim impact statement, children's book, grief, internet searches, life insurance, police investigations, electronic devices, joint accounts, illicit fentanyl purchases, autopsy, toxicology report, medical examiner, witness testimony, forged documents, durable power of attorney, estate planning, trustees, affair.\n"
     ]
    }
   ],
   "source": [
    "prompt = f'''\n",
    "Identify some keywords from this article:\n",
    "```{article.text}```\n",
    "'''\n",
    "\n",
    "response = get_completion(prompt)\n",
    "print(response)"
   ]
  },
  {
   "cell_type": "markdown",
   "id": "8175aa36",
   "metadata": {},
   "source": [
    "The ouput of keywords is a mess. They are all relevant to the article but some are less so.\n",
    "\n",
    "The goal is now to pull out the most relevant keywords to this story. To do this effectively, the instructions need to be specific enough to work on this example but general enough to work on a larger scale."
   ]
  },
  {
   "cell_type": "code",
   "execution_count": 6,
   "id": "64186baa",
   "metadata": {},
   "outputs": [
    {
     "name": "stdout",
     "output_type": "stream",
     "text": [
      "1. Subject: Kouri Richins' pretrial release denied in husband's murder case\n",
      "2. Location: Park City, Utah, USA\n",
      "3. Category: Crime\n",
      "4. People: Kouri Richins, Eric Richins, Judge Richard E. Mrazik, Skye Lazaro, Amy Richins, Matt Throckmorton, Kristal Bowman-Carter\n",
      "5. Keywords: Kouri Richins, Eric Richins, murder, fentanyl, children's book, grief, bail, pretrial release, phone searches, financial history, victim impact statement, autopsy, toxicology report, forged documents, estate planning, trust\n",
      "6. Mood: Serious, somber.\n"
     ]
    }
   ],
   "source": [
    "prompt = f'''\n",
    "Identify the following information for the article below.\n",
    "1. Subject\n",
    "2. Location\n",
    "3. Category\n",
    "4. People\n",
    "5. Keywords: 10 max\n",
    "6. Mood\n",
    "Article: ```{article.text}```\n",
    "'''\n",
    "ccc"
   ]
  },
  {
   "cell_type": "markdown",
   "id": "8cdc540e",
   "metadata": {},
   "source": [
    "Good start, but it is still messy. The prompt will be refined to get the model to consistently put out keywords-- and importantly to use the same keywords. Note how in the examples below subtly changing a few words encourages different outputs, and sometimes this change is not always reflective of where the changes were made. It helps to be particular and specific."
   ]
  },
  {
   "cell_type": "code",
   "execution_count": 7,
   "id": "f91baed8",
   "metadata": {},
   "outputs": [
    {
     "name": "stdout",
     "output_type": "stream",
     "text": [
      "A. Kouri Richins denied pretrial release, new details about her alleged search history emerged, judge ruled Kouri Richins to be held without bail, prosecutors called on several expert witnesses to testify, and allegations of forged documents were made.\n",
      "\n",
      "B. Crime\n",
      "\n",
      "C. Utah, United States\n",
      "\n",
      "D. News\n",
      "\n",
      "E. Kouri Richins, Eric Richins, Judge Richard E. Mrazik, Skye Lazaro, Amy Richins, Matt Throckmorton, and Kristal Bowman-Carter.\n",
      "\n",
      "F. Serious\n",
      "\n",
      "G. Kouri Richins, Utah, murder, fentanyl, children's book.\n"
     ]
    }
   ],
   "source": [
    "prompt = f'''\n",
    "Identify the following information for the article below.\n",
    "\n",
    "A. Explain up to five events that happened in short sentences.\n",
    "B. Subject\n",
    "C. Location\n",
    "D. Category\n",
    "E. People\n",
    "F. Mood\n",
    "G. Determine 5 unique keywords to identify the article.\n",
    "\n",
    "Article: ```{article.text}```\n",
    "'''\n",
    "\n",
    "response = get_completion(prompt)\n",
    "print(response)"
   ]
  },
  {
   "cell_type": "code",
   "execution_count": 9,
   "id": "616c8ad2",
   "metadata": {},
   "outputs": [
    {
     "name": "stdout",
     "output_type": "stream",
     "text": [
      "A. Kouri Richins denied pretrial release, judge cites substantial evidence against her, incriminating internet searches found on her phone, expert witnesses testify about phone records and financial history, victim impact statement made by Eric Richins' sister, Kouri Richins has right to file expedited appeal within 30 days, allegations of forged documents. \n",
      "\n",
      "B. Utah widow accused of killing her husband before writing a children's book about grief. \n",
      "\n",
      "C. News \n",
      "\n",
      "D. Criminal homicide, aggravated murder, and possession of a controlled substance with intent to distribute. \n",
      "\n",
      "E. Park City, Utah \n",
      "\n",
      "F. Kouri Richins, Eric Richins, Amy Richins, Skye Lazaro, Judge Richard E. Mrazik, Matt Throckmorton, Kristal Bowman-Carter. \n",
      "\n",
      "G. Serious, somber.\n"
     ]
    }
   ],
   "source": [
    "prompt = f'''\n",
    "Identify the following information for the article below.\n",
    "\n",
    "A. Explain 10 or less events that happened in short sentences.\n",
    "B. Topic\n",
    "C. Category from list: News, Health, World News, Government, Entertainment.\n",
    "D. News subject\n",
    "E. Exact location\n",
    "F. All people mentioned, ordered by relevance to the story\n",
    "G. Mood\n",
    "\n",
    "Article: ```{article.text}```\n",
    "'''\n",
    "response = get_completion(prompt)\n",
    "print(response)"
   ]
  },
  {
   "cell_type": "code",
   "execution_count": 16,
   "id": "6355151b",
   "metadata": {},
   "outputs": [
    {
     "name": "stdout",
     "output_type": "stream",
     "text": [
      "A. Kouri Richins denied pretrial release, judge cites substantial evidence against her, incriminating internet searches found on her phone, allegations of forged documents, victim impact statement made by Eric Richins' sister, Kouri Richins has not entered a plea, court will reconvene on June 22 for a scheduling conference.\n",
      "B. Utah widow accused of killing her husband before writing a children's book about grief.\n",
      "C. News\n",
      "D. Crime\n",
      "E. Park City, Utah, United States\n",
      "F. Kouri Richins, Eric Richins, Amy Richins, Skye Lazaro, Judge Richard E. Mrazik, Matt Throckmorton, Kristal Bowman-Carter\n",
      "G. Serious, somber.\n"
     ]
    }
   ],
   "source": [
    "prompt = f'''\n",
    "Identify the following information for the article below.\n",
    "\n",
    "A. Explain 10 or less events that happened in short sentences.\n",
    "B. Topic\n",
    "C. Category from list: News, Health, World News, Government, Entertainment.\n",
    "D. News Subcategory\n",
    "E. Exact location and country\n",
    "F. List all of the people mentioned in the article\n",
    "G. Overall mood\n",
    "\n",
    "Article: ```{article.text}```\n",
    "'''\n",
    "\n",
    "response = get_completion(prompt)\n",
    "print(response)"
   ]
  },
  {
   "cell_type": "markdown",
   "id": "de53c69c",
   "metadata": {},
   "source": [
    "Finally, reference a different aticle and see if there is a similar output."
   ]
  },
  {
   "cell_type": "code",
   "execution_count": 18,
   "id": "71f38537",
   "metadata": {},
   "outputs": [],
   "source": [
    "url1 = 'https://www.cnn.com/2023/06/14/style/monet-paint-protest-stockholm-climate/index.html'\n",
    "article1 = Article(url1)\n",
    "article1.download()\n",
    "article1.parse()"
   ]
  },
  {
   "cell_type": "code",
   "execution_count": 19,
   "id": "9ee91353",
   "metadata": {},
   "outputs": [
    {
     "name": "stdout",
     "output_type": "stream",
     "text": [
      "A. Two activists smeared red paint and glued their hands to a Monet painting at Stockholm's National Museum. Police were called to the scene and arrested two women. The painting is being inspected for damage.\n",
      "B. Activists vandalize Monet painting at Stockholm's National Museum.\n",
      "C. News\n",
      "D. Art Vandalism\n",
      "E. Stockholm, Sweden\n",
      "F. Claude Monet, Per Hedström\n",
      "G. Concerned\n"
     ]
    }
   ],
   "source": [
    "prompt = f'''\n",
    "Identify the following information for the article below.\n",
    "\n",
    "A. Explain 10 or less events that happened in short sentences.\n",
    "B. Topic\n",
    "C. Category from list: News, Health, World News, Government, Entertainment.\n",
    "D. News Subcategory\n",
    "E. Exact location and country\n",
    "F. List all of the people mentioned in the article\n",
    "G. Overall mood\n",
    "\n",
    "Article: ```{article1.text}```\n",
    "'''\n",
    "\n",
    "response = get_completion(prompt)\n",
    "print(response)"
   ]
  },
  {
   "cell_type": "markdown",
   "id": "c662e3c5",
   "metadata": {},
   "source": [
    "The results are not exactly as wanted-- \"Art Vandalism\" should be \"Crime\" and specifically this should be \"World News\" as this is a U.S. based news source. The model would not be able to infer this context without being directed to do so, so this result is not unexpected. The following changes can help be more specific and imply the context needed."
   ]
  },
  {
   "cell_type": "code",
   "execution_count": 20,
   "id": "c25aa5e5",
   "metadata": {},
   "outputs": [
    {
     "name": "stdout",
     "output_type": "stream",
     "text": [
      "A. Two activists smeared red paint and glued their hands to a Monet painting at Stockholm's National Museum. Police were called to the scene and arrested two women. The painting is being inspected for damage.\n",
      "B. Art vandalism at Stockholm's National Museum\n",
      "C. World News\n",
      "D. Crime\n",
      "E. Stockholm, Sweden\n",
      "F. Claude Monet, Per Hedström\n",
      "G. Serious\n"
     ]
    }
   ],
   "source": [
    "prompt = f'''\n",
    "Identify the following information for the article below.\n",
    "\n",
    "A. Explain 10 or less events that happened in short sentences.\n",
    "B. Topic\n",
    "C. Category from list: U.S. News, Health, World News, Government, Entertainment.\n",
    "D. News Subcategory: one word\n",
    "E. Exact location and country\n",
    "F. List all of the people mentioned in the article\n",
    "G. Mood from list: Serious, Cheerful, Neutral\n",
    "\n",
    "Article: ```{article1.text}```\n",
    "'''\n",
    "\n",
    "response = get_completion(prompt)\n",
    "print(response)"
   ]
  },
  {
   "cell_type": "markdown",
   "id": "6edb0cb8",
   "metadata": {},
   "source": [
    "An again, test it on the initial article to see if the results are consistent."
   ]
  },
  {
   "cell_type": "code",
   "execution_count": 21,
   "id": "2a4de522",
   "metadata": {},
   "outputs": [
    {
     "name": "stdout",
     "output_type": "stream",
     "text": [
      "A. Kouri Richins denied pretrial release, judge cites substantial evidence against her, incriminating internet searches found on her phone, expert witnesses testify in court, victim impact statement made by Eric Richins' sister, Kouri Richins has right to file expedited appeal within 30 days, allegations of forged documents.\n",
      "B. Utah widow accused of killing her husband before writing a children's book about grief.\n",
      "C. U.S. News\n",
      "D. Crime\n",
      "E. Park City, Utah, United States\n",
      "F. Kouri Richins, Eric Richins, Amy Richins, Skye Lazaro, Matt Throckmorton, Kristal Bowman-Carter\n",
      "G. Serious\n"
     ]
    }
   ],
   "source": [
    "prompt = f'''\n",
    "Identify the following information for the article below.\n",
    "\n",
    "A. Explain 10 or less events that happened in short sentences.\n",
    "B. Topic\n",
    "C. Category from list: U.S. News, Health, World News, Government, Entertainment.\n",
    "D. News Subcategory: one word\n",
    "E. Exact location and country\n",
    "F. List all of the people mentioned in the article\n",
    "G. Mood from list: Serious, Cheerful, Neutral\n",
    "\n",
    "Article: ```{article.text}```\n",
    "'''\n",
    "\n",
    "response = get_completion(prompt)\n",
    "print(response)"
   ]
  },
  {
   "cell_type": "markdown",
   "id": "e6cb31a7",
   "metadata": {},
   "source": [
    "Somehow the judge is now missing from the list of people. The description of people will be changed to convey that every person MUST be mentioned."
   ]
  },
  {
   "cell_type": "code",
   "execution_count": 23,
   "id": "639cc993",
   "metadata": {},
   "outputs": [
    {
     "name": "stdout",
     "output_type": "stream",
     "text": [
      "A. Kouri Richins denied pretrial release, judge cites substantial evidence against her, incriminating search history found on her phone, victim impact statement made by Eric Richins' sister, Kouri Richins has right to file expedited appeal within 30 days, allegations of forged documents.\n",
      "B. Utah widow accused of killing her husband before writing a children's book about grief.\n",
      "C. U.S. News\n",
      "D. Crime\n",
      "E. Park City, Utah, United States\n",
      "F. Kouri Richins, Eric Richins, Amy Richins, Skye Lazaro, Richard E. Mrazik, Matt Throckmorton, Kristal Bowman-Carter\n",
      "G. Serious\n"
     ]
    }
   ],
   "source": [
    "prompt = f'''\n",
    "Identify the following information for the article below.\n",
    "\n",
    "A. Explain 10 or less events that happened in short sentences.\n",
    "B. Topic\n",
    "C. Category from list: U.S. News, Health, World News, Government, Entertainment.\n",
    "D. News Subcategory: one word\n",
    "E. Exact location and country\n",
    "F. Exhaustive list of every name\n",
    "G. Mood from list: Serious, Cheerful, Neutral\n",
    "\n",
    "Article: ```{article.text}```\n",
    "'''\n",
    "\n",
    "response = get_completion(prompt)\n",
    "print(response)"
   ]
  },
  {
   "cell_type": "code",
   "execution_count": 24,
   "id": "75e22990",
   "metadata": {},
   "outputs": [],
   "source": [
    "url2 = 'https://www.cnn.com/2023/06/15/health/youth-suicide-homicide/index.html'\n",
    "article2 = Article(url2)\n",
    "article2.download()\n",
    "article2.parse()"
   ]
  },
  {
   "cell_type": "code",
   "execution_count": 25,
   "id": "d8994b50",
   "metadata": {},
   "outputs": [
    {
     "name": "stdout",
     "output_type": "stream",
     "text": [
      "A. Suicide and homicide rates for children and young adults in the US are the highest they've been in decades. Suicide and homicide were the second and third leading causes of death for this age group. The homicide rate for this age group in 2021 was the highest it's been since 1997, and the suicide rate was the highest on record since 1968. Suicide rates surpassed homicide rates for this age group in 2010 and have continued rising for the past decade. But a large spike in homicide rates during the first year of the Covid-19 pandemic brought the rates for both types of violent death together for the first time in a decade. For children ages 10 to 14, however, a large gap remained. The suicide rate in 2021 was twice as high as the homicide rate. Firearms were the most common weapon used in children's deaths, and Black boys were killed more than any other group. \n",
      "\n",
      "B. Suicide and homicide rates for children and young adults in the US \n",
      "\n",
      "C. Health \n",
      "\n",
      "D. Mental health \n",
      "\n",
      "E. United States \n",
      "\n",
      "F. No names mentioned \n",
      "\n",
      "G. Serious\n"
     ]
    }
   ],
   "source": [
    "prompt = f'''\n",
    "Identify the following information for the article below.\n",
    "\n",
    "A. Explain 10 or less events that happened in short sentences.\n",
    "B. Topic\n",
    "C. Category from list: U.S. News, Health, World News, Government, Entertainment.\n",
    "D. News Subcategory: one word\n",
    "E. Exact location and country\n",
    "F. Exhaustive list of every name\n",
    "G. Mood from list: Serious, Cheerful, Neutral\n",
    "\n",
    "Article: ```{article2.text}```\n",
    "'''\n",
    "\n",
    "response = get_completion(prompt)\n",
    "print(response)"
   ]
  },
  {
   "cell_type": "markdown",
   "id": "1479b9fb",
   "metadata": {},
   "source": [
    "Finally, this data can be passed through the model again to format the output that can be put into a database."
   ]
  },
  {
   "cell_type": "code",
   "execution_count": 29,
   "id": "06b197fb",
   "metadata": {},
   "outputs": [
    {
     "name": "stdout",
     "output_type": "stream",
     "text": [
      "{\n",
      "  \"Summary\": \"Suicide and homicide rates for children and young adults in the US are the highest they've been in decades. Firearms were the most common weapon used in children's deaths, and Black boys were killed more than any other group.\",\n",
      "  \"Topic\": \"Suicide and homicide rates for children and young adults in the US\",\n",
      "  \"Category\": \"Health\",\n",
      "  \"Subject\": \"Mental health\",\n",
      "  \"Location\": \"United States\",\n",
      "  \"People\": \"No names mentioned\",\n",
      "  \"Mood\": \"Serious\"\n",
      "}\n"
     ]
    }
   ],
   "source": [
    "prompt = f'''\n",
    "Format the Data below into a JSON file with the following key/value pairs:\n",
    "A. to Summary\n",
    "B. to Topic\n",
    "C. to Category\n",
    "D. to Subject\n",
    "E. to Location\n",
    "F. to People\n",
    "G. to Mood\n",
    "\n",
    "Data: ```{response}```\n",
    "'''\n",
    "\n",
    "formatted_response = get_completion(prompt)\n",
    "print(formatted_response)"
   ]
  },
  {
   "cell_type": "code",
   "execution_count": null,
   "id": "392606b3",
   "metadata": {},
   "outputs": [],
   "source": []
  }
 ],
 "metadata": {
  "kernelspec": {
   "display_name": "Python 3 (ipykernel)",
   "language": "python",
   "name": "python3"
  },
  "language_info": {
   "codemirror_mode": {
    "name": "ipython",
    "version": 3
   },
   "file_extension": ".py",
   "mimetype": "text/x-python",
   "name": "python",
   "nbconvert_exporter": "python",
   "pygments_lexer": "ipython3",
   "version": "3.9.12"
  }
 },
 "nbformat": 4,
 "nbformat_minor": 5
}
